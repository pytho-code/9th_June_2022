{
 "cells": [
  {
   "cell_type": "code",
   "execution_count": 9,
   "metadata": {},
   "outputs": [
    {
     "name": "stdout",
     "output_type": "stream",
     "text": [
      "[20, 30, 40, 10, 50]\n"
     ]
    }
   ],
   "source": [
    "#-----------List---------\n",
    "#write a program to shuffle and print specified list\n",
    "lst=[10,20,30,40,50]\n",
    "for i in range(len(lst)):\n",
    "    temp=lst[i]\n",
    "    lst[i]=lst[i-1]\n",
    "    lst[i-1]=temp\n",
    "\n",
    "  \n",
    "print (lst)"
   ]
  },
  {
   "cell_type": "code",
   "execution_count": 28,
   "metadata": {},
   "outputs": [
    {
     "name": "stdout",
     "output_type": "stream",
     "text": [
      "[36, 49, 64, 81, 100, 121, 144, 169, 196, 225, 256, 289, 324, 361, 400, 441, 484, 529, 576, 625, 676, 729, 784, 841, 900]\n"
     ]
    }
   ],
   "source": [
    "#write a python program to generate and print a list except for the firat 5 elementa whwre the value are suare no of between 1 to 30(both included)\n",
    "\n",
    "l=[]\n",
    "for i in range(1,31):\n",
    "    s=i**2\n",
    "    l.append(s)\n",
    "print(l[5:])\n",
    "    \n",
    "\n"
   ]
  },
  {
   "cell_type": "code",
   "execution_count": 53,
   "metadata": {},
   "outputs": [
    {
     "name": "stdout",
     "output_type": "stream",
     "text": [
      "10\n",
      "50\n"
     ]
    }
   ],
   "source": [
    "#write a python program to get diffrence between two list\n",
    "l=[10,20,30,40]\n",
    "l1=[20,30,40,50]\n",
    "\n",
    "for i in range(len(l)):\n",
    "   if l[i] not in l1:\n",
    "       print(l[i])\n",
    "   elif l1[i] not in l:\n",
    "       print(l1[i])"
   ]
  },
  {
   "cell_type": "code",
   "execution_count": 70,
   "metadata": {},
   "outputs": [
    {
     "data": {
      "text/plain": [
       "'abc'"
      ]
     },
     "execution_count": 70,
     "metadata": {},
     "output_type": "execute_result"
    }
   ],
   "source": [
    "#write a python program to convert list of character in to a string\n",
    "s=['a','b','c']\n",
    "k=\"\"\n",
    "k.join(s)\n"
   ]
  },
  {
   "cell_type": "code",
   "execution_count": 79,
   "metadata": {},
   "outputs": [
    {
     "name": "stdout",
     "output_type": "stream",
     "text": [
      "List [22, 1, 33, 22]\n",
      "22\n"
     ]
    }
   ],
   "source": [
    "#write a python program to find second smallest number in the list\n",
    "lst=int(input(\"enter a length\"))\n",
    "l=[]\n",
    "for i in range(lst):\n",
    "    n=int(input(\"enter a value\"))\n",
    "    l.append(n)\n",
    "print(\"List\",l)\n",
    "l.sort()\n",
    "print(\"second smallest: \",l[1])\n",
    "\n",
    "\n"
   ]
  },
  {
   "cell_type": "code",
   "execution_count": 120,
   "metadata": {},
   "outputs": [
    {
     "name": "stdout",
     "output_type": "stream",
     "text": [
      "20\n",
      "30\n"
     ]
    }
   ],
   "source": [
    "#6 write a python program to get an unique values from the list\n",
    "lst=[10,20,10,30]\n",
    "     \n",
    "for i in range(len(lst)):\n",
    "    lst.append(i)\n",
    "    #print(\"list\",lst[i],lst.count(lst[i]))\n",
    "    if lst.count(lst[i])<=1:\n",
    "      print(lst[i])\n",
    "    \n",
    "    \n",
    "  \n"
   ]
  },
  {
   "cell_type": "code",
   "execution_count": 126,
   "metadata": {},
   "outputs": [
    {
     "name": "stdout",
     "output_type": "stream",
     "text": [
      "[1, 0, 2, 3, 4, 5, 0]\n",
      "[1, 2, 0, 3, 4, 5, 0, 1]\n",
      "[1, 2, 3, 0, 4, 5, 0, 1, 2]\n",
      "[1, 2, 3, 4, 0, 5, 0, 1, 2, 3]\n",
      "[1, 2, 3, 4, 5, 0, 0, 1, 2, 3, 4]\n",
      "[1, 2, 3, 4, 5, 0, 0, 1, 2, 3, 4, 5]\n"
     ]
    }
   ],
   "source": [
    "'''Write a Python program to change the position of every n-th value with the (n+1)th in a list.\n",
    "Sample list: [0,1,2,3,4,5]\n",
    "Expected Output: [1, 0, 3, 2, 5, 4]'''\n",
    "\n",
    "#neeed to ask kaushal\n",
    "\n",
    "l=[0,1,2,3,4,5]\n",
    "l1=[]\n",
    "for i in range(len(l)):\n",
    "    l.append(i)\n",
    "    t=l[i]\n",
    "    l[i]=l[i+1]\n",
    "    l[i+1]=t\n",
    "    print(l)\n",
    "\n",
    "    "
   ]
  },
  {
   "cell_type": "code",
   "execution_count": 131,
   "metadata": {},
   "outputs": [
    {
     "name": "stdout",
     "output_type": "stream",
     "text": [
      "113350"
     ]
    }
   ],
   "source": [
    "'''Write a Python program to convert a list of multiple integers into a single integer.\n",
    "Sample list: [11, 33, 50]\n",
    "Expected Output: 113350'''\n",
    "\n",
    "lst=[11,33,50]\n",
    "\n",
    "for i in lst:\n",
    "\n",
    "  print (i, end = \"\")\n",
    "\n",
    "\n"
   ]
  },
  {
   "cell_type": "code",
   "execution_count": 139,
   "metadata": {},
   "outputs": [
    {
     "name": "stdout",
     "output_type": "stream",
     "text": [
      "[1, 2, 3, 4, 5, 6, 7, 8, 9, 10, 11, 12, 13, 14, 15]\n"
     ]
    }
   ],
   "source": [
    "#Write a Python program to generate groups of five consecutive numbers in a list.\n",
    "lst=[]\n",
    "lst1=[]\n",
    "for i in range(1,16):\n",
    "    lst.append(i)\n",
    "   \n",
    "print(lst)"
   ]
  },
  {
   "cell_type": "code",
   "execution_count": 154,
   "metadata": {},
   "outputs": [
    {
     "name": "stdout",
     "output_type": "stream",
     "text": [
      "[1, 2, 3, 4, 6]\n"
     ]
    }
   ],
   "source": [
    "#Write a Python program to convert a pair of values into a sorted unique array.\n",
    "l=[(1,2),(3,4),(4,6)]\n",
    "l=set().union(*l)\n",
    "\n",
    "l=list(l)\n",
    "print(l)\n",
    "#print(sorted(set().union(*l)))\n",
    "#print(l)"
   ]
  },
  {
   "cell_type": "code",
   "execution_count": 165,
   "metadata": {},
   "outputs": [
    {
     "name": "stdout",
     "output_type": "stream",
     "text": [
      "em\n"
     ]
    }
   ],
   "source": [
    "#Write a Python program to check a list is empty or not.\n",
    "l=[]\n",
    "if not l:\n",
    "    print(\"empty\")\n",
    "else:\n",
    "    print(\"not empty\")\n"
   ]
  },
  {
   "cell_type": "code",
   "execution_count": 168,
   "metadata": {},
   "outputs": [
    {
     "name": "stdout",
     "output_type": "stream",
     "text": [
      "{1, 2, 3}\n"
     ]
    }
   ],
   "source": [
    "#Write a Python program to generate all permutations of a list in Python.\n",
    "#need to ask kaushal\n",
    "l=[1,2,3]\n",
    "\n"
   ]
  },
  {
   "cell_type": "code",
   "execution_count": 170,
   "metadata": {},
   "outputs": [
    {
     "name": "stdout",
     "output_type": "stream",
     "text": [
      "1\n"
     ]
    }
   ],
   "source": [
    "#Write a Python program to select an item randomly from a list.\n",
    "import random\n",
    "lst=[1,2,3]\n",
    "print(random.choice(lst))\n"
   ]
  },
  {
   "cell_type": "code",
   "execution_count": 177,
   "metadata": {},
   "outputs": [
    {
     "name": "stdout",
     "output_type": "stream",
     "text": [
      "[1, 2, 3, [], [], [], [], [], []]\n"
     ]
    }
   ],
   "source": [
    "#Write a Python program to generate all sublists of a list.\n",
    "#need to ask kaushal\n",
    "lst=[1,2,3]\n",
    "l=[]\n",
    "for i in range(len(lst)+1):\n",
    "  for j in range(i):\n",
    "      lst.append(l[j:i])\n",
    "print(lst)"
   ]
  },
  {
   "cell_type": "code",
   "execution_count": 178,
   "metadata": {},
   "outputs": [
    {
     "name": "stdout",
     "output_type": "stream",
     "text": [
      "abc\n",
      "xyz\n",
      "pqr\n"
     ]
    }
   ],
   "source": [
    "#Write a Python program to split a list into different variables\n",
    "s=[\"abc\",\"xyz\",\"pqr\"]\n",
    "v1,v2,v3=s\n",
    "print(v1)\n",
    "print(v2)\n",
    "print(v3)"
   ]
  },
  {
   "cell_type": "code",
   "execution_count": 181,
   "metadata": {},
   "outputs": [
    {
     "data": {
      "text/plain": [
       "('abc', [1, 2], 20, True)"
      ]
     },
     "execution_count": 181,
     "metadata": {},
     "output_type": "execute_result"
    }
   ],
   "source": [
    "  #---------- Tupple--------------\n",
    "#1 Write a Python program to create a tuple with different data types.\n",
    "s=(\"abc\",[1,2],20,True)\n",
    "s"
   ]
  },
  {
   "cell_type": "code",
   "execution_count": 183,
   "metadata": {},
   "outputs": [
    {
     "name": "stdout",
     "output_type": "stream",
     "text": [
      "[1, 2, 3, 4]\n",
      "(1,)\n"
     ]
    }
   ],
   "source": [
    "#2 Write a Python program to create a tuple with numbers and print one item.\n",
    "ts=[1,2,3,4]\n",
    "print(ts)\n",
    "ts=(1,)\n",
    "print(ts)"
   ]
  },
  {
   "cell_type": "code",
   "execution_count": 184,
   "metadata": {},
   "outputs": [
    {
     "name": "stdout",
     "output_type": "stream",
     "text": [
      "abc\n",
      "xyx\n",
      "pqr\n"
     ]
    }
   ],
   "source": [
    "#Write a Python program to unpack a tuple in several variables.\n",
    "ts=(\"abc\",\"xyx\",\"pqr\")\n",
    "(v1,v2,v3)=ts\n",
    "print(v1)\n",
    "print(v2)\n",
    "print(v3)"
   ]
  },
  {
   "cell_type": "code",
   "execution_count": 187,
   "metadata": {},
   "outputs": [
    {
     "name": "stdout",
     "output_type": "stream",
     "text": [
      "abcxyzpqr\n"
     ]
    }
   ],
   "source": [
    "#Write a Python program to convert a tuple to a string.\n",
    "ts=(\"abc\",\"xyz\",\"pqr\")\n",
    "s=\"\"\n",
    "print(s.join(ts))\n"
   ]
  },
  {
   "cell_type": "code",
   "execution_count": 190,
   "metadata": {},
   "outputs": [
    {
     "name": "stdout",
     "output_type": "stream",
     "text": [
      "xyz\n",
      "[3, 4]\n"
     ]
    }
   ],
   "source": [
    "#5 Write a Python program to get the 4th element and 4th element from last of a tuple.\n",
    "ts=(\"abc\",2,[3,4],\"xyz\",5,6)\n",
    "print(ts[3])\n",
    "print(ts[-4])\n"
   ]
  },
  {
   "cell_type": "code",
   "execution_count": 207,
   "metadata": {},
   "outputs": [
    {
     "name": "stdout",
     "output_type": "stream",
     "text": [
      "(1, 2, 'xyz', 3)\n"
     ]
    },
    {
     "ename": "ValueError",
     "evalue": "tuple.index(x): x not in tuple",
     "output_type": "error",
     "traceback": [
      "\u001b[0;31m---------------------------------------------------------------------------\u001b[0m",
      "\u001b[0;31mValueError\u001b[0m                                Traceback (most recent call last)",
      "\u001b[1;32m/Users/admin/Desktop/Python/Practise_Ass_2.ipynb Cell 21'\u001b[0m in \u001b[0;36m<cell line: 5>\u001b[0;34m()\u001b[0m\n\u001b[1;32m      <a href='vscode-notebook-cell:/Users/admin/Desktop/Python/Practise_Ass_2.ipynb#ch0000020?line=4'>5</a>\u001b[0m \u001b[39mfor\u001b[39;00m i \u001b[39min\u001b[39;00m \u001b[39mrange\u001b[39m(\u001b[39mlen\u001b[39m(ts)):\n\u001b[1;32m      <a href='vscode-notebook-cell:/Users/admin/Desktop/Python/Practise_Ass_2.ipynb#ch0000020?line=5'>6</a>\u001b[0m     \u001b[39mprint\u001b[39m(ts)\n\u001b[0;32m----> <a href='vscode-notebook-cell:/Users/admin/Desktop/Python/Practise_Ass_2.ipynb#ch0000020?line=6'>7</a>\u001b[0m     \u001b[39mprint\u001b[39m(ts\u001b[39m.\u001b[39;49mindex(i))\n",
      "\u001b[0;31mValueError\u001b[0m: tuple.index(x): x not in tuple"
     ]
    }
   ],
   "source": [
    "#6 Write a Python program to find the index of an item of a tuple.\n",
    "ts=(1,2,\"xyz\",3)\n",
    "ts.index(2)\n",
    "\n",
    "\n"
   ]
  },
  {
   "cell_type": "code",
   "execution_count": 209,
   "metadata": {},
   "outputs": [
    {
     "name": "stdout",
     "output_type": "stream",
     "text": [
      "{'a': 'b', 1: 2, 3: 4}\n"
     ]
    }
   ],
   "source": [
    "#7 rite a Python program to convert a list of tuples into a dictionary.\n",
    "lt=[(\"a\",\"b\"),(1,2),(3,4)]\n",
    "di=dict(lt)\n",
    "print(di)"
   ]
  },
  {
   "cell_type": "code",
   "execution_count": 229,
   "metadata": {},
   "outputs": [
    {
     "name": "stdout",
     "output_type": "stream",
     "text": [
      "1\n"
     ]
    }
   ],
   "source": [
    "    #8 Write a Python program to count the elements in a list until an element is a tuple.\n",
    "lst=[\"a\",1,2,(3,4)]\n",
    "c=0\n",
    "for i in range(len(lst)):\n",
    "     lst.append(i)\n",
    "     \n",
    "     if isinstance(i,tuple):\n",
    "        break\n",
    "c=c+1\n",
    "print(c)\n"
   ]
  },
  {
   "cell_type": "code",
   "execution_count": 98,
   "metadata": {},
   "outputs": [
    {
     "name": "stdout",
     "output_type": "stream",
     "text": [
      "python 3.0\n",
      "<class 'str'>\n",
      "('p', 'y', 't', 'h', 'o', 'n', ' ', '3', '.', '0')\n",
      "<class 'tuple'>\n"
     ]
    }
   ],
   "source": [
    "'''Write a Python program convert a given string list to a tuple.\n",
    "Original string: python 3.0\n",
    "<class 'str'>\n",
    "Convert the said string to a tuple:\n",
    "('p', 'y', 't', 'h', 'o', 'n', '3', '.', '0')\n",
    "<class 'tuple'>'''\n",
    "strr1=\"python 3.0\"\n",
    "\n",
    "print(strr1)\n",
    "print(type(strr1))\n",
    "t=tuple(strr1)\n",
    "\n",
    "print(t)\n",
    "print(type(t))\n"
   ]
  },
  {
   "cell_type": "code",
   "execution_count": null,
   "metadata": {},
   "outputs": [],
   "source": [
    "'''Write a Python program to check if a specified element presents in a tuple of tuples.\n",
    "Original list:\n",
    "(('Red', 'White', 'Blue'), ('Green', 'Pink', 'Purple'), ('Orange', 'Yellow', 'Lime'))\n",
    "Check if White presenet in said tuple of tuples!\n",
    "True\n",
    "Check if White presenet in said tuple of tuples!\n",
    "True\n",
    "Check if Olive presenet in said tuple of tuples!\n",
    "False'''\n"
   ]
  },
  {
   "cell_type": "code",
   "execution_count": 109,
   "metadata": {},
   "outputs": [
    {
     "ename": "TypeError",
     "evalue": "'int' object is not iterable",
     "output_type": "error",
     "traceback": [
      "\u001b[0;31m---------------------------------------------------------------------------\u001b[0m",
      "\u001b[0;31mTypeError\u001b[0m                                 Traceback (most recent call last)",
      "\u001b[1;32m/Users/admin/Desktop/Python/Practise_Ass_2.ipynb Cell 26'\u001b[0m in \u001b[0;36m<cell line: 13>\u001b[0;34m()\u001b[0m\n\u001b[1;32m     <a href='vscode-notebook-cell:/Users/admin/Desktop/Python/Practise_Ass_2.ipynb#ch0000057?line=11'>12</a>\u001b[0m s\u001b[39m=\u001b[39m\u001b[39m0\u001b[39m\n\u001b[1;32m     <a href='vscode-notebook-cell:/Users/admin/Desktop/Python/Practise_Ass_2.ipynb#ch0000057?line=12'>13</a>\u001b[0m \u001b[39mfor\u001b[39;00m i \u001b[39min\u001b[39;00m \u001b[39mrange\u001b[39m(\u001b[39mlen\u001b[39m(t)):\n\u001b[0;32m---> <a href='vscode-notebook-cell:/Users/admin/Desktop/Python/Practise_Ass_2.ipynb#ch0000057?line=14'>15</a>\u001b[0m   \u001b[39mprint\u001b[39m(\u001b[39mlist\u001b[39;49m(\u001b[39msum\u001b[39;49m(t[i])))\n",
      "\u001b[0;31mTypeError\u001b[0m: 'int' object is not iterable"
     ]
    }
   ],
   "source": [
    "'''Write a Python program to compute the sum of all the elements of each tuple stored inside a list of tuples.\n",
    "Original list of tuples:\n",
    "[(1, 2), (2, 3), (3, 4)]\n",
    "Sum of all the elements of each tuple stored inside the said list of tuples:\n",
    "[3, 5, 7]\n",
    "Original list of tuples:\n",
    "[(1, 2, 6), (2, 3, -6), (3, 4), (2, 2, 2, 2)]\n",
    "Sum of all the elements of each tuple stored inside the said list of tuples:\n",
    "[9, -1, 7, 8]'''\n",
    "#need to ask kaushal\n",
    "t=[(1, 2), (2, 3), (3, 4)]\n",
    "s=0\n",
    "for i in range(len(t)):\n",
    "  \n",
    "  print(sum(t[i]))\n",
    "   \n",
    "       \n"
   ]
  },
  {
   "cell_type": "code",
   "execution_count": 110,
   "metadata": {},
   "outputs": [
    {
     "data": {
      "text/plain": [
       "(3, 4, 5)"
      ]
     },
     "execution_count": 110,
     "metadata": {},
     "output_type": "execute_result"
    }
   ],
   "source": [
    "#Write a Python program to slice a tuple.\n",
    "t=(1,2,3,4,5)\n",
    "t[2:]\n"
   ]
  },
  {
   "cell_type": "code",
   "execution_count": 112,
   "metadata": {},
   "outputs": [
    {
     "data": {
      "text/plain": [
       "True"
      ]
     },
     "execution_count": 112,
     "metadata": {},
     "output_type": "execute_result"
    }
   ],
   "source": [
    "#Write a Python program to check whether an element exists within a tuple.\n",
    "t=(1,2,3,4,5)\n",
    "1 in t\n"
   ]
  },
  {
   "cell_type": "code",
   "execution_count": 130,
   "metadata": {},
   "outputs": [
    {
     "name": "stdout",
     "output_type": "stream",
     "text": [
      "[(10, 20, 100), (40, 50, 100), (70, 80, 100)]\n"
     ]
    }
   ],
   "source": [
    "'''Write a Python program to replace last value of tuples in a list.\n",
    "Sample list: [(10, 20, 40), (40, 50, 60), (70, 80, 90)]\n",
    "Expected Output: [(10, 20, 100), (40, 50, 100), (70, 80, 100)]'''\n",
    "a= [(10, 20, 40), (40, 50, 60), (70, 80, 90)]\n",
    "b=[]\n",
    "for i in a:\n",
    "    c= i[:-1]+(100,)\n",
    "    b.append(c)\n",
    "print(b)\n",
    "\n",
    "\n"
   ]
  },
  {
   "cell_type": "code",
   "execution_count": 132,
   "metadata": {},
   "outputs": [
    {
     "name": "stdout",
     "output_type": "stream",
     "text": [
      "[('',), ('a', 'b'), ('a', 'b', 'c'), 'd']\n"
     ]
    }
   ],
   "source": [
    "'''Write a Python program to remove an empty tuple(s) from a list of tuples.\n",
    "Sample data: [(), (), ('',), ('a', 'b'), ('a', 'b', 'c'), ('d')]\n",
    "Expected output: [('',), ('a', 'b'), ('a', 'b', 'c'), 'd'] \\''''\n",
    "\n",
    "a=[(), (), ('',), ('a', 'b'), ('a', 'b', 'c'), ('d')]\n",
    "b=[]\n",
    "for i in a:\n",
    "    if i!=():\n",
    "        b.append(i)\n",
    "print(b)\n"
   ]
  },
  {
   "cell_type": "code",
   "execution_count": null,
   "metadata": {},
   "outputs": [],
   "source": []
  },
  {
   "cell_type": "code",
   "execution_count": null,
   "metadata": {},
   "outputs": [],
   "source": []
  },
  {
   "cell_type": "code",
   "execution_count": 2,
   "metadata": {},
   "outputs": [
    {
     "name": "stdout",
     "output_type": "stream",
     "text": [
      "1\n",
      "2\n",
      "3\n",
      "a\n"
     ]
    }
   ],
   "source": [
    "#----------Sets----------\n",
    "#1 Write a Python program to iteration over sets.\n",
    "s={1,2,3,'a'}\n",
    "for i in s:\n",
    "     print(i)"
   ]
  },
  {
   "cell_type": "code",
   "execution_count": 3,
   "metadata": {},
   "outputs": [
    {
     "name": "stdout",
     "output_type": "stream",
     "text": [
      "{1, 2, 3, 'a', 12}\n"
     ]
    }
   ],
   "source": [
    "#2 Write a Python program to add member(s) in a set.\n",
    "\n",
    "s={1,2,3,'a'}\n",
    "s.add(12)\n",
    "print(s)\n"
   ]
  },
  {
   "cell_type": "code",
   "execution_count": 4,
   "metadata": {},
   "outputs": [
    {
     "name": "stdout",
     "output_type": "stream",
     "text": [
      "{1, 2, 'a'}\n"
     ]
    }
   ],
   "source": [
    "#Write a Python program to remove item(s) from a given set\n",
    "s={1,2,3,'a'}\n",
    "s.remove(3)\n",
    "print(s)"
   ]
  },
  {
   "cell_type": "code",
   "execution_count": 6,
   "metadata": {},
   "outputs": [
    {
     "ename": "RuntimeError",
     "evalue": "Set changed size during iteration",
     "output_type": "error",
     "traceback": [
      "\u001b[0;31m---------------------------------------------------------------------------\u001b[0m",
      "\u001b[0;31mRuntimeError\u001b[0m                              Traceback (most recent call last)",
      "\u001b[1;32m/Users/admin/Desktop/Python/Practise_Ass_2.ipynb Cell 27'\u001b[0m in \u001b[0;36m<cell line: 3>\u001b[0;34m()\u001b[0m\n\u001b[1;32m      <a href='vscode-notebook-cell:/Users/admin/Desktop/Python/Practise_Ass_2.ipynb#ch0000026?line=0'>1</a>\u001b[0m \u001b[39m#Write a Python program to remove an item from a set if it is present in the set.\u001b[39;00m\n\u001b[1;32m      <a href='vscode-notebook-cell:/Users/admin/Desktop/Python/Practise_Ass_2.ipynb#ch0000026?line=1'>2</a>\u001b[0m s\u001b[39m=\u001b[39m{\u001b[39m1\u001b[39m,\u001b[39m2\u001b[39m,\u001b[39m3\u001b[39m,\u001b[39m4\u001b[39m,\u001b[39m5\u001b[39m,\u001b[39m'\u001b[39m\u001b[39mq\u001b[39m\u001b[39m'\u001b[39m}\n\u001b[0;32m----> <a href='vscode-notebook-cell:/Users/admin/Desktop/Python/Practise_Ass_2.ipynb#ch0000026?line=2'>3</a>\u001b[0m \u001b[39mfor\u001b[39;00m i \u001b[39min\u001b[39;00m s:\n\u001b[1;32m      <a href='vscode-notebook-cell:/Users/admin/Desktop/Python/Practise_Ass_2.ipynb#ch0000026?line=3'>4</a>\u001b[0m     \u001b[39mif\u001b[39;00m \u001b[39m5\u001b[39m \u001b[39min\u001b[39;00m s:\n\u001b[1;32m      <a href='vscode-notebook-cell:/Users/admin/Desktop/Python/Practise_Ass_2.ipynb#ch0000026?line=4'>5</a>\u001b[0m         s\u001b[39m.\u001b[39mremove(\u001b[39m5\u001b[39m)\n",
      "\u001b[0;31mRuntimeError\u001b[0m: Set changed size during iteration"
     ]
    }
   ],
   "source": [
    "#Write a Python program to remove an item from a set if it is present in the set.\n",
    "s={1,2,3,4,5,'q'}\n",
    "for i in s:\n",
    "    if 5 in s:\n",
    "        s.remove(5)\n",
    "print(s)"
   ]
  },
  {
   "cell_type": "code",
   "execution_count": 8,
   "metadata": {},
   "outputs": [
    {
     "name": "stdout",
     "output_type": "stream",
     "text": [
      "{1}\n"
     ]
    }
   ],
   "source": [
    "#5 Write a Python program to create an intersection of sets.\n",
    "a={1,2,3,4}\n",
    "b={5,6,7,1}\n",
    "s=a.intersection(b)\n",
    "print(s)"
   ]
  },
  {
   "cell_type": "code",
   "execution_count": 9,
   "metadata": {},
   "outputs": [
    {
     "name": "stdout",
     "output_type": "stream",
     "text": [
      "{1, 2, 3, 4, 5, 6, 7}\n"
     ]
    }
   ],
   "source": [
    "#6 Write a Python program to create a union of sets.\n",
    "a={1,2,3,4}\n",
    "b={5,6,7,1}\n",
    "s=a.union(b)\n",
    "print(s)"
   ]
  },
  {
   "cell_type": "code",
   "execution_count": 11,
   "metadata": {},
   "outputs": [
    {
     "name": "stdout",
     "output_type": "stream",
     "text": [
      "{3, 4}\n"
     ]
    }
   ],
   "source": [
    "#7 Write a Python program to create set difference.\n",
    "a={1,2,3,4}\n",
    "b={5,6,2,1}\n",
    "s=a.difference(b)\n",
    "print(s)\n"
   ]
  },
  {
   "cell_type": "code",
   "execution_count": 15,
   "metadata": {},
   "outputs": [
    {
     "data": {
      "text/plain": [
       "True"
      ]
     },
     "execution_count": 15,
     "metadata": {},
     "output_type": "execute_result"
    }
   ],
   "source": [
    "# 8 Write a Python program to check if a set is a subset of another set.\n",
    "a={1,2,3,4}\n",
    "b={5,6,7,8,1,2,3,4}\n",
    "a.issubset(b)\n"
   ]
  },
  {
   "cell_type": "code",
   "execution_count": 19,
   "metadata": {},
   "outputs": [
    {
     "ename": "NameError",
     "evalue": "name 'b' is not defined",
     "output_type": "error",
     "traceback": [
      "\u001b[0;31m---------------------------------------------------------------------------\u001b[0m",
      "\u001b[0;31mNameError\u001b[0m                                 Traceback (most recent call last)",
      "\u001b[1;32m/Users/admin/Desktop/Python/Practise_Ass_2.ipynb Cell 32'\u001b[0m in \u001b[0;36m<cell line: 4>\u001b[0;34m()\u001b[0m\n\u001b[1;32m      <a href='vscode-notebook-cell:/Users/admin/Desktop/Python/Practise_Ass_2.ipynb#ch0000031?line=1'>2</a>\u001b[0m b\u001b[39m=\u001b[39m{\u001b[39m1\u001b[39m,\u001b[39m2\u001b[39m,\u001b[39m3\u001b[39m,\u001b[39m'\u001b[39m\u001b[39ma\u001b[39m\u001b[39m'\u001b[39m}\n\u001b[1;32m      <a href='vscode-notebook-cell:/Users/admin/Desktop/Python/Practise_Ass_2.ipynb#ch0000031?line=2'>3</a>\u001b[0m \u001b[39mdel\u001b[39;00m b\n\u001b[0;32m----> <a href='vscode-notebook-cell:/Users/admin/Desktop/Python/Practise_Ass_2.ipynb#ch0000031?line=3'>4</a>\u001b[0m \u001b[39mprint\u001b[39m(b)\n",
      "\u001b[0;31mNameError\u001b[0m: name 'b' is not defined"
     ]
    }
   ],
   "source": [
    "#9 Write a Python program to remove all elements from a given set.\n",
    "b={1,2,3,'a'}\n",
    "del b\n",
    "print(b)\n"
   ]
  },
  {
   "cell_type": "code",
   "execution_count": 21,
   "metadata": {},
   "outputs": [
    {
     "name": "stdout",
     "output_type": "stream",
     "text": [
      "{3, 4, 5, 6}\n"
     ]
    }
   ],
   "source": [
    "#10 Write a Python program to find the elements in a given set that are not in another set.\n",
    "a={1,2,3,4}\n",
    "b={5,6,1,2}\n",
    "\n",
    "c=a.symmetric_difference(b)\n",
    "print(c)"
   ]
  },
  {
   "cell_type": "code",
   "execution_count": 24,
   "metadata": {},
   "outputs": [
    {
     "name": "stdout",
     "output_type": "stream",
     "text": [
      "{3, 4}\n",
      "{1, 2, 5, 6}\n"
     ]
    }
   ],
   "source": [
    "#Write a Python program to remove the intersection of a 2nd set from the 1st set.\n",
    "a={1,2,3,4}\n",
    "b={5,6,1,2}\n",
    "a.difference_update(b)\n",
    "print(a)\n",
    "print(b)"
   ]
  },
  {
   "cell_type": "code",
   "execution_count": 25,
   "metadata": {},
   "outputs": [
    {
     "name": "stdout",
     "output_type": "stream",
     "text": [
      "{'c', 'b'}\n"
     ]
    }
   ],
   "source": [
    "#12 Write a Python program to create a symmetric difference.\n",
    "s1={'a','b'}\n",
    "s2={'c','a'}\n",
    "se=s1.symmetric_difference(s2)\n",
    "print(se)"
   ]
  },
  {
   "cell_type": "code",
   "execution_count": 28,
   "metadata": {},
   "outputs": [
    {
     "name": "stdout",
     "output_type": "stream",
     "text": [
      "55\n",
      "1\n"
     ]
    }
   ],
   "source": [
    "#13 Write a Python program to find maximum and the minimum value in a set.\n",
    "s1={1,2,44,55,6,11}\n",
    "print(max(s1))\n",
    "print(min(s1))\n",
    "\n"
   ]
  },
  {
   "cell_type": "code",
   "execution_count": 29,
   "metadata": {},
   "outputs": [
    {
     "name": "stdout",
     "output_type": "stream",
     "text": [
      "True\n"
     ]
    }
   ],
   "source": [
    "#14 Write a Python program to check if two given sets have no elements in common\n",
    "a={1,2,3}\n",
    "b={5,6,7}\n",
    "k=a.isdisjoint(b)\n",
    "print(k)"
   ]
  },
  {
   "cell_type": "code",
   "execution_count": null,
   "metadata": {},
   "outputs": [],
   "source": [
    "#15 Write a Python program to check if a given set is superset of itself and superset of another given set.\n"
   ]
  },
  {
   "cell_type": "code",
   "execution_count": 30,
   "metadata": {},
   "outputs": [
    {
     "ename": "AttributeError",
     "evalue": "'dict' object has no attribute 'sort'",
     "output_type": "error",
     "traceback": [
      "\u001b[0;31m---------------------------------------------------------------------------\u001b[0m",
      "\u001b[0;31mAttributeError\u001b[0m                            Traceback (most recent call last)",
      "\u001b[1;32m/Users/admin/Desktop/Python/Practise_Ass_2.ipynb Cell 39'\u001b[0m in \u001b[0;36m<cell line: 8>\u001b[0;34m()\u001b[0m\n\u001b[1;32m      <a href='vscode-notebook-cell:/Users/admin/Desktop/Python/Practise_Ass_2.ipynb#ch0000039?line=0'>1</a>\u001b[0m \u001b[39m#----------Dictonary---------\u001b[39;00m\n\u001b[1;32m      <a href='vscode-notebook-cell:/Users/admin/Desktop/Python/Practise_Ass_2.ipynb#ch0000039?line=1'>2</a>\u001b[0m \u001b[39m#1 Write a Python script to sort (ascending and descending) a dictionary by value.\u001b[39;00m\n\u001b[1;32m      <a href='vscode-notebook-cell:/Users/admin/Desktop/Python/Practise_Ass_2.ipynb#ch0000039?line=2'>3</a>\u001b[0m di1\u001b[39m=\u001b[39m{\n\u001b[1;32m      <a href='vscode-notebook-cell:/Users/admin/Desktop/Python/Practise_Ass_2.ipynb#ch0000039?line=3'>4</a>\u001b[0m    \u001b[39m\"\u001b[39m\u001b[39mstudentname\u001b[39m\u001b[39m\"\u001b[39m:\u001b[39m\"\u001b[39m\u001b[39msweta\u001b[39m\u001b[39m\"\u001b[39m,\n\u001b[1;32m      <a href='vscode-notebook-cell:/Users/admin/Desktop/Python/Practise_Ass_2.ipynb#ch0000039?line=4'>5</a>\u001b[0m    \u001b[39m\"\u001b[39m\u001b[39mRollno\u001b[39m\u001b[39m\"\u001b[39m:\u001b[39m20\u001b[39m,\n\u001b[1;32m      <a href='vscode-notebook-cell:/Users/admin/Desktop/Python/Practise_Ass_2.ipynb#ch0000039?line=5'>6</a>\u001b[0m    \u001b[39m\"\u001b[39m\u001b[39mYear\u001b[39m\u001b[39m\"\u001b[39m:\u001b[39m2020\u001b[39m\n\u001b[1;32m      <a href='vscode-notebook-cell:/Users/admin/Desktop/Python/Practise_Ass_2.ipynb#ch0000039?line=6'>7</a>\u001b[0m }\n\u001b[0;32m----> <a href='vscode-notebook-cell:/Users/admin/Desktop/Python/Practise_Ass_2.ipynb#ch0000039?line=7'>8</a>\u001b[0m di1\u001b[39m.\u001b[39;49msort()\n",
      "\u001b[0;31mAttributeError\u001b[0m: 'dict' object has no attribute 'sort'"
     ]
    }
   ],
   "source": [
    "#----------Dictonary---------\n",
    "#1 Write a Python script to sort (ascending and descending) a dictionary by value.\n",
    "\n",
    "# need to ask kaushal\n",
    "di1={\n",
    "   \"studentname\":\"sweta\",\n",
    "   \"Rollno\":20,\n",
    "   \"Year\":2020\n",
    "}\n",
    "di1.sort()\n"
   ]
  },
  {
   "cell_type": "code",
   "execution_count": 32,
   "metadata": {},
   "outputs": [
    {
     "data": {
      "text/plain": [
       "{0: 10, 1: 20, 2: 30}"
      ]
     },
     "execution_count": 32,
     "metadata": {},
     "output_type": "execute_result"
    }
   ],
   "source": [
    "'''2 Write a Python script to add a key to a dictionary.\n",
    "Sample Dictionary : {0: 10, 1: 20}\n",
    "Expected Result : {0: 10, 1: 20, 2: 30}'''\n",
    "\n",
    "di1={\n",
    "\n",
    "    0:10,\n",
    "    1:20\n",
    "}\n",
    "di1.update({2:30})\n",
    "di1"
   ]
  },
  {
   "cell_type": "code",
   "execution_count": 34,
   "metadata": {},
   "outputs": [
    {
     "name": "stdout",
     "output_type": "stream",
     "text": [
      "{1: 10, 2: 20, 3: 30, 4: 40, 5: 50, 6: 60}\n"
     ]
    }
   ],
   "source": [
    "'''3 Write a Python script to concatenate following dictionaries to create a new one.\n",
    "Sample Dictionary :\n",
    "dic1={1:10, 2:20}\n",
    "dic2={3:30, 4:40}\n",
    "dic3={5:50,6:60}\n",
    "Expected Result : {1: 10, 2: 20, 3: 30, 4: 40, 5: 50, 6: 60}'''\n",
    "finaldic={}\n",
    "dic1={1:10, 2:20}\n",
    "dic2={3:30, 4:40}\n",
    "dic3={5:50,6:60}\n",
    "\n",
    "for i in (dic1,dic2,dic3):\n",
    "    finaldic.update(i)\n",
    "print(finaldic)"
   ]
  },
  {
   "cell_type": "code",
   "execution_count": 38,
   "metadata": {},
   "outputs": [
    {
     "name": "stdout",
     "output_type": "stream",
     "text": [
      "exist\n"
     ]
    }
   ],
   "source": [
    "#4 Write a Python script to check whether a given key already exists in a dictionary.\n",
    "di={\n",
    "    1:10,\n",
    "    2:20,\n",
    "    3:30\n",
    "}\n",
    "\n",
    "if 1 in di:\n",
    "    print(\"exist\")\n",
    "else:\n",
    "        print(\"not\")"
   ]
  },
  {
   "cell_type": "code",
   "execution_count": 47,
   "metadata": {},
   "outputs": [
    {
     "name": "stdout",
     "output_type": "stream",
     "text": [
      "student sweta\n",
      "rollno 20\n",
      "year 2021\n"
     ]
    }
   ],
   "source": [
    "#5 Write a Python program to iterate over dictionaries using for loops.\n",
    "di={\n",
    "    \"student\":\"sweta\",\n",
    "    \"rollno\":20,\n",
    "    \"year\":2021\n",
    "}\n",
    "for i,j in di.items():\n",
    " print(i,j)"
   ]
  },
  {
   "cell_type": "code",
   "execution_count": 57,
   "metadata": {},
   "outputs": [
    {
     "name": "stdout",
     "output_type": "stream",
     "text": [
      "{1: 1, 2: 4, 3: 9}\n"
     ]
    }
   ],
   "source": [
    "'''6 Write a Python script to generate and print a dictionary that contains a number (between 1 and n) in the form (x, x*x).\n",
    "Sample Dictionary ( n = 5) :\n",
    "Expected Output : {1: 1, 2: 4, 3: 9, 4: 16, 5: 25}'''\n",
    "di={}\n",
    "n=int(input(\"enter a length\"))\n",
    "for i in range(1,n+1):\n",
    "   di[i]=i*i\n",
    "print(di)\n"
   ]
  },
  {
   "cell_type": "code",
   "execution_count": 60,
   "metadata": {},
   "outputs": [
    {
     "name": "stdout",
     "output_type": "stream",
     "text": [
      "{1: 1, 2: 2, 3: 4, 5: 6}\n"
     ]
    }
   ],
   "source": [
    "#7 Write a Python script to merge two Python dictionaries.\n",
    "# need to ask kaushal\n",
    "di1={1: 1,2: 4,3: 9}\n",
    "di2={2:2,3:4,5:6}\n",
    "di3={}\n",
    "for i in(di1,di2):\n",
    "    di3.update(i)\n",
    "print(di3)"
   ]
  },
  {
   "cell_type": "code",
   "execution_count": 65,
   "metadata": {},
   "outputs": [
    {
     "name": "stdout",
     "output_type": "stream",
     "text": [
      "8\n"
     ]
    }
   ],
   "source": [
    "#9 Write a Python program to sum all the items in a dictionary.\n",
    "di1={1:2,\n",
    "3:4,\n",
    "5:2}\n",
    "print(sum(di1.values()))"
   ]
  },
  {
   "cell_type": "code",
   "execution_count": 67,
   "metadata": {},
   "outputs": [
    {
     "name": "stdout",
     "output_type": "stream",
     "text": [
      "6\n"
     ]
    }
   ],
   "source": [
    "#10 Write a Python program to multiply all the items in a dictionary.\n",
    "di={\n",
    " \"a\":1,\n",
    " \"b\":2,\n",
    " \"c\":3\n",
    "\n",
    "}\n",
    "r=1\n",
    "for i in di:\n",
    "    r=r*di[i]\n",
    "print(r)\n"
   ]
  },
  {
   "cell_type": "code",
   "execution_count": 70,
   "metadata": {},
   "outputs": [
    {
     "name": "stdout",
     "output_type": "stream",
     "text": [
      "{'a': 1, 'b': 2}\n"
     ]
    }
   ],
   "source": [
    "# 11 Write a Python program to remove a key from a dictionary.\n",
    "di={\n",
    "    \"a\":1,\n",
    "    \"b\":2,\n",
    "    \"c\":3\n",
    "}\n",
    "di.pop(\"c\")\n",
    "print(di)"
   ]
  },
  {
   "cell_type": "code",
   "execution_count": 83,
   "metadata": {},
   "outputs": [
    {
     "name": "stdout",
     "output_type": "stream",
     "text": [
      "{1: 5, 2: 6, 3: 7, 4: 8}\n"
     ]
    }
   ],
   "source": [
    "#12 Write a Python program to map two lists into a dictionary.\n",
    "a=[1,2,3,4]\n",
    "b=[5,6,7,8]\n",
    "c=dict()\n",
    "for i in range(len(a)):\n",
    "    c=dict(zip(a,b))\n",
    "print(c)"
   ]
  },
  {
   "cell_type": "code",
   "execution_count": 87,
   "metadata": {},
   "outputs": [
    {
     "name": "stdout",
     "output_type": "stream",
     "text": [
      "Class B\n",
      "rollno 12A\n",
      "student riya\n"
     ]
    }
   ],
   "source": [
    "#13 Write a Python program to sort a given dictionary by key.\n",
    "di={\n",
    "\"student\":\"riya\",\n",
    "\"rollno\":\"12A\",\n",
    "\"Class\":\"B\"\n",
    "}\n",
    "for i in sorted(di):\n",
    "    print(i,di[i])\n"
   ]
  },
  {
   "cell_type": "code",
   "execution_count": 91,
   "metadata": {},
   "outputs": [
    {
     "name": "stdout",
     "output_type": "stream",
     "text": [
      "34\n",
      "1\n"
     ]
    }
   ],
   "source": [
    "#14 Write a Python program to get the maximum and minimum value in a dictionary.\n",
    "di={\n",
    "  \"a\":34,\n",
    "  \"b\":1,\n",
    "  \"c\":20\n",
    "\n",
    "}\n",
    "print(max(di.values()))\n",
    "print(min(di.values()))"
   ]
  },
  {
   "cell_type": "code",
   "execution_count": 92,
   "metadata": {},
   "outputs": [
    {
     "name": "stdout",
     "output_type": "stream",
     "text": [
      "{'yellow': [1, 3], 'blue': [2, 4], 'red': [1]}\n"
     ]
    }
   ],
   "source": [
    "'''15 Write a Python program to create a dictionary grouping a sequence of key-value pairs into a dictionary of lists.\n",
    "Original list:\n",
    "[('yellow', 1), ('blue', 2), ('yellow', 3), ('blue', 4), ('red', 1)]\n",
    "Grouping a sequence of key-value pairs into a dictionary of lists:\n",
    "{'yellow': [1, 3], 'blue': [2, 4], 'red': [1]}'''\n",
    "\n",
    "ol=[('yellow', 1), ('blue', 2), ('yellow', 3), ('blue', 4), ('red', 1)]\n",
    "r={}\n",
    "for i,j in ol:\n",
    "    r.setdefault(i,[]).append(j)\n",
    "print(r)"
   ]
  }
 ],
 "metadata": {
  "interpreter": {
   "hash": "aee8b7b246df8f9039afb4144a1f6fd8d2ca17a180786b69acc140d282b71a49"
  },
  "kernelspec": {
   "display_name": "Python 3.10.4 64-bit",
   "language": "python",
   "name": "python3"
  },
  "language_info": {
   "codemirror_mode": {
    "name": "ipython",
    "version": 3
   },
   "file_extension": ".py",
   "mimetype": "text/x-python",
   "name": "python",
   "nbconvert_exporter": "python",
   "pygments_lexer": "ipython3",
   "version": "3.10.4"
  },
  "orig_nbformat": 4
 },
 "nbformat": 4,
 "nbformat_minor": 2
}
