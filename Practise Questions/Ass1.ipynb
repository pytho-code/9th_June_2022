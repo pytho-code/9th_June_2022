{
 "cells": [
  {
   "cell_type": "code",
   "execution_count": 1,
   "metadata": {},
   "outputs": [
    {
     "name": "stdout",
     "output_type": "stream",
     "text": [
      "Hello\n"
     ]
    }
   ],
   "source": [
    "print(\"Hello\")"
   ]
  },
  {
   "cell_type": "code",
   "execution_count": 22,
   "metadata": {},
   "outputs": [
    {
     "name": "stdout",
     "output_type": "stream",
     "text": [
      "Baisc salary :  20000\n",
      "Year :  5\n",
      "Bonus :  3000.0\n"
     ]
    }
   ],
   "source": [
    "#Q1\n",
    "BasicSalary=int(input(\"Basic Salary\"))\n",
    "Year=int(input(\"No of Year\"))\n",
    "if Year > 2.5:\n",
    "    print(\"Baisc salary : \",BasicSalary)\n",
    "    print(\"Year : \",(Year))\n",
    "    Bonus=(BasicSalary*15)/100\n",
    "    print(\"Bonus : \" ,Bonus)\n",
    "else:\n",
    "     print(\"not eligible\")\n",
    "\n",
    "\n",
    "\n"
   ]
  },
  {
   "cell_type": "code",
   "execution_count": 12,
   "metadata": {},
   "outputs": [
    {
     "name": "stdout",
     "output_type": "stream",
     "text": [
      "It is not a square\n"
     ]
    }
   ],
   "source": [
    "#Q2\n",
    "l=int(input(\"enter length\"))\n",
    "d=int(input(\"enter depth\"))\n",
    "if l==d:\n",
    "    print(\"it is a square\")\n",
    "else:\n",
    "    print(\"It is not a square\")\n"
   ]
  },
  {
   "cell_type": "code",
   "execution_count": 17,
   "metadata": {},
   "outputs": [
    {
     "name": "stdout",
     "output_type": "stream",
     "text": [
      "age1 is older\n"
     ]
    }
   ],
   "source": [
    "age1=int(input(\"Enter Age1\"))\n",
    "age2=int(input(\"Enter Age2\"))\n",
    "if age1>age2:\n",
    "    print(\"Age1 is older\")\n",
    "else:\n",
    "\n",
    "    print(\"Age2 is older\")\n",
    "   "
   ]
  },
  {
   "cell_type": "code",
   "execution_count": 10,
   "metadata": {},
   "outputs": [
    {
     "ename": "TypeError",
     "evalue": "'int' object is not iterable",
     "output_type": "error",
     "traceback": [
      "\u001b[0;31m---------------------------------------------------------------------------\u001b[0m",
      "\u001b[0;31mTypeError\u001b[0m                                 Traceback (most recent call last)",
      "\u001b[1;32m/Users/admin/Desktop/Python/Ass1.ipynb Cell 5'\u001b[0m in \u001b[0;36m<cell line: 3>\u001b[0;34m()\u001b[0m\n\u001b[1;32m      <a href='vscode-notebook-cell:/Users/admin/Desktop/Python/Ass1.ipynb#ch0000004?line=0'>1</a>\u001b[0m \u001b[39m#no=int(input(\"enter a number between 1 to 50\"))\u001b[39;00m\n\u001b[1;32m      <a href='vscode-notebook-cell:/Users/admin/Desktop/Python/Ass1.ipynb#ch0000004?line=1'>2</a>\u001b[0m no\u001b[39m=\u001b[39m\u001b[39m10\u001b[39m\n\u001b[0;32m----> <a href='vscode-notebook-cell:/Users/admin/Desktop/Python/Ass1.ipynb#ch0000004?line=2'>3</a>\u001b[0m \u001b[39mfor\u001b[39;00m item \u001b[39min\u001b[39;00m no:\n\u001b[1;32m      <a href='vscode-notebook-cell:/Users/admin/Desktop/Python/Ass1.ipynb#ch0000004?line=3'>4</a>\u001b[0m   \u001b[39mif\u001b[39;00m item\u001b[39m%\u001b[39m\u001b[39m2\u001b[39m\u001b[39m==\u001b[39m\u001b[39m0\u001b[39m:\n\u001b[1;32m      <a href='vscode-notebook-cell:/Users/admin/Desktop/Python/Ass1.ipynb#ch0000004?line=4'>5</a>\u001b[0m       \u001b[39mprint\u001b[39m(item)\n",
      "\u001b[0;31mTypeError\u001b[0m: 'int' object is not iterable"
     ]
    }
   ],
   "source": [
    "#no=int(input(\"enter a number between 1 to 50\"))\n",
    "no=10\n",
    "for item in no:\n",
    "  if item%2==0:\n",
    "      print(item)"
   ]
  },
  {
   "cell_type": "code",
   "execution_count": 9,
   "metadata": {},
   "outputs": [
    {
     "name": "stdout",
     "output_type": "stream",
     "text": [
      "0\n"
     ]
    }
   ],
   "source": [
    "digits = [0, 1, 5]\n",
    "\n",
    "for i in digits:\n",
    "    print(i)\n",
    "    break\n",
    "else:\n",
    "    print(\"No items left.\")"
   ]
  }
 ],
 "metadata": {
  "interpreter": {
   "hash": "aee8b7b246df8f9039afb4144a1f6fd8d2ca17a180786b69acc140d282b71a49"
  },
  "kernelspec": {
   "display_name": "Python 3.10.4 64-bit",
   "language": "python",
   "name": "python3"
  },
  "language_info": {
   "codemirror_mode": {
    "name": "ipython",
    "version": 3
   },
   "file_extension": ".py",
   "mimetype": "text/x-python",
   "name": "python",
   "nbconvert_exporter": "python",
   "pygments_lexer": "ipython3",
   "version": "3.10.4"
  },
  "orig_nbformat": 4
 },
 "nbformat": 4,
 "nbformat_minor": 2
}
