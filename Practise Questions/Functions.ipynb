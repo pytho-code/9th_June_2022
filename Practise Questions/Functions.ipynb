{
 "cells": [
  {
   "cell_type": "code",
   "execution_count": 2,
   "metadata": {},
   "outputs": [
    {
     "name": "stdout",
     "output_type": "stream",
     "text": [
      "hello world\n"
     ]
    }
   ],
   "source": [
    "def sweta():\n",
    "    print(\"hello world\")\n",
    "sweta()"
   ]
  },
  {
   "cell_type": "code",
   "execution_count": 7,
   "metadata": {},
   "outputs": [
    {
     "name": "stdout",
     "output_type": "stream",
     "text": [
      "First name: julie \n",
      "Last name: shah\n"
     ]
    }
   ],
   "source": [
    "#Exercise 2: Create a function with variable length of arguments\n",
    "def sweta(fname,lname):\n",
    "    print(\"First name: \"+fname+\" \\nLast name: \"+lname)\n",
    "sweta(\"julie\",\"shah\")\n"
   ]
  },
  {
   "cell_type": "code",
   "execution_count": 9,
   "metadata": {},
   "outputs": [
    {
     "name": "stdout",
     "output_type": "stream",
     "text": [
      "(200, 0.5)\n"
     ]
    }
   ],
   "source": [
    "#Exercise 3: Return multiple values from a function\n",
    "def sweta(x,y):\n",
    "    ml=x*y\n",
    "    dv=x/y\n",
    "    return ml,dv\n",
    "r=sweta(10,20)\n",
    "print(r)\n"
   ]
  },
  {
   "cell_type": "code",
   "execution_count": 10,
   "metadata": {},
   "outputs": [
    {
     "name": "stdout",
     "output_type": "stream",
     "text": [
      "B\n",
      "A\n"
     ]
    }
   ],
   "source": [
    "#Exercise 4: Create a function with default argument\n",
    "def sweta(classname=\"A\"):\n",
    "    print(classname)\n",
    "sweta(\"B\")\n",
    "sweta()\n"
   ]
  },
  {
   "cell_type": "code",
   "execution_count": null,
   "metadata": {},
   "outputs": [],
   "source": [
    "#Exercise 5: Create an inner function to calculate the addition in the following way\n"
   ]
  },
  {
   "cell_type": "code",
   "execution_count": 12,
   "metadata": {},
   "outputs": [
    {
     "name": "stdout",
     "output_type": "stream",
     "text": [
      "15\n"
     ]
    }
   ],
   "source": [
    "#Exercise 6: Create a recursive function\n",
    "def add(a):\n",
    "    if a >0:\n",
    "        return a+add(a-1)\n",
    "    else:\n",
    "        return 0\n",
    "print(add(5))\n"
   ]
  },
  {
   "cell_type": "code",
   "execution_count": 17,
   "metadata": {},
   "outputs": [
    {
     "name": "stdout",
     "output_type": "stream",
     "text": [
      "200\n"
     ]
    }
   ],
   "source": [
    "#Exercise 7: Assign a different name to function and call it through the new name\n",
    "def sweta(a,b):\n",
    "    print(a*b)\n",
    "\n",
    "sweta2=sweta\n",
    "sweta2(10,20)"
   ]
  },
  {
   "cell_type": "code",
   "execution_count": 31,
   "metadata": {},
   "outputs": [
    {
     "name": "stdout",
     "output_type": "stream",
     "text": [
      "4\n",
      "6\n",
      "8\n",
      "10\n",
      "12\n",
      "14\n",
      "16\n",
      "18\n",
      "20\n",
      "22\n",
      "24\n",
      "26\n",
      "28\n"
     ]
    }
   ],
   "source": [
    "#Exercise 8: Generate a Python list of all the even numbers between 4 to 30\n",
    "def sweta():\n",
    "    for n in range(4,30):\n",
    "        if n%2==0:\n",
    "           print(n)\n",
    "   \n",
    "   \n",
    "sweta()\n",
    "     \n"
   ]
  },
  {
   "cell_type": "code",
   "execution_count": 35,
   "metadata": {},
   "outputs": [
    {
     "ename": "TypeError",
     "evalue": "'int' object is not iterable",
     "output_type": "error",
     "traceback": [
      "\u001b[0;31m---------------------------------------------------------------------------\u001b[0m",
      "\u001b[0;31mTypeError\u001b[0m                                 Traceback (most recent call last)",
      "\u001b[1;32m/Users/admin/Desktop/Python/Functions.ipynb Cell 9'\u001b[0m in \u001b[0;36m<cell line: 6>\u001b[0;34m()\u001b[0m\n\u001b[1;32m      <a href='vscode-notebook-cell:/Users/admin/Desktop/Python/Functions.ipynb#ch0000008?line=3'>4</a>\u001b[0m      \u001b[39mmax\u001b[39m(n)\n\u001b[1;32m      <a href='vscode-notebook-cell:/Users/admin/Desktop/Python/Functions.ipynb#ch0000008?line=4'>5</a>\u001b[0m s\u001b[39m=\u001b[39m[\u001b[39m20\u001b[39m,\u001b[39m30\u001b[39m,\u001b[39m40\u001b[39m]\n\u001b[0;32m----> <a href='vscode-notebook-cell:/Users/admin/Desktop/Python/Functions.ipynb#ch0000008?line=5'>6</a>\u001b[0m sweta(s)\n",
      "\u001b[1;32m/Users/admin/Desktop/Python/Functions.ipynb Cell 9'\u001b[0m in \u001b[0;36msweta\u001b[0;34m(maxlst)\u001b[0m\n\u001b[1;32m      <a href='vscode-notebook-cell:/Users/admin/Desktop/Python/Functions.ipynb#ch0000008?line=1'>2</a>\u001b[0m \u001b[39mdef\u001b[39;00m \u001b[39msweta\u001b[39m(maxlst):\n\u001b[1;32m      <a href='vscode-notebook-cell:/Users/admin/Desktop/Python/Functions.ipynb#ch0000008?line=2'>3</a>\u001b[0m     \u001b[39mfor\u001b[39;00m n \u001b[39min\u001b[39;00m maxlst:\n\u001b[0;32m----> <a href='vscode-notebook-cell:/Users/admin/Desktop/Python/Functions.ipynb#ch0000008?line=3'>4</a>\u001b[0m      \u001b[39mmax\u001b[39;49m(n)\n",
      "\u001b[0;31mTypeError\u001b[0m: 'int' object is not iterable"
     ]
    }
   ],
   "source": [
    "#Exercise 9: Find the largest item from a given list\n",
    "def sweta(maxlst):\n",
    "    for n in maxlst:\n",
    "     max(n)\n",
    "s=[20,30,40]\n",
    "sweta(s)\n",
    "\n"
   ]
  }
 ],
 "metadata": {
  "interpreter": {
   "hash": "aee8b7b246df8f9039afb4144a1f6fd8d2ca17a180786b69acc140d282b71a49"
  },
  "kernelspec": {
   "display_name": "Python 3.10.4 64-bit",
   "language": "python",
   "name": "python3"
  },
  "language_info": {
   "codemirror_mode": {
    "name": "ipython",
    "version": 3
   },
   "file_extension": ".py",
   "mimetype": "text/x-python",
   "name": "python",
   "nbconvert_exporter": "python",
   "pygments_lexer": "ipython3",
   "version": "3.10.4"
  },
  "orig_nbformat": 4
 },
 "nbformat": 4,
 "nbformat_minor": 2
}
